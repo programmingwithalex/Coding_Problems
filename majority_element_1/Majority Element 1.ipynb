{
 "cells": [
  {
   "cell_type": "markdown",
   "metadata": {},
   "source": [
    "Leetcode link: https://leetcode.com/problems/majority-element/\n",
    "\n",
    "## Problem Statement:\n",
    "\n",
    "Given an array of size n, find the majority element. The majority element is the element that appears more than `⌊ n/2 ⌋` times.\n",
    "\n",
    "You may assume that the array is non-empty and the majority element always exist in the array."
   ]
  },
  {
   "cell_type": "markdown",
   "metadata": {},
   "source": [
    "--- \n",
    "**Example 1:**\n",
    "\n",
    "`Input: [4,4,4,2,1]\n",
    "Output: 4`\n",
    "\n",
    "**Example 2:**\n",
    "\n",
    "`Input: [1,1,1,1,1,1,1,2]\n",
    "Output: 1`\n",
    "\n",
    "---"
   ]
  },
  {
   "cell_type": "markdown",
   "metadata": {},
   "source": [
    "## Three Solutions:\n",
    "\n",
    "### 1. Hashmap\n",
    "\n",
    "\n",
    "### 2. Sorting\n",
    "\n",
    "\n",
    "### 3. Moore’s Voting Algorithm\n",
    "\n",
    "---"
   ]
  },
  {
   "cell_type": "markdown",
   "metadata": {},
   "source": [
    "## Solution 1: Hashmap\n",
    "\n",
    "* Store the count of each of element in the array in a hashmap, as a hashmap has O(1) access.\n",
    "* Select the max of the hashmap by the key values (counts of nums) to find the single majority element.\n",
    "\n",
    "### Speed: O(n)\n",
    "\n",
    "* Iterate through the array once takes O(n). Finding the max of the hashmap takes O(n/2), which rounds up to O(n).\n",
    "\n",
    "### Space: O(n)\n",
    "\n",
    "* There are guaranteed to be a majority element, so there will be at most `⌈ n / 2 ⌉` elements in the array. This rounds up to O(n)."
   ]
  },
  {
   "cell_type": "code",
   "execution_count": 1,
   "metadata": {},
   "outputs": [],
   "source": [
    "def majorityElement(nums: list) -> int:\n",
    "    d = {}\n",
    "\n",
    "    for num in nums:\n",
    "        d[num] = d.get(num, 0) + 1\n",
    "        \n",
    "#         print(d)\n",
    "\n",
    "    return max(d, key=lambda x: d[x])"
   ]
  },
  {
   "cell_type": "code",
   "execution_count": 2,
   "metadata": {},
   "outputs": [
    {
     "data": {
      "text/plain": [
       "1"
      ]
     },
     "execution_count": 2,
     "metadata": {},
     "output_type": "execute_result"
    }
   ],
   "source": [
    "nums = [1,1,1,2,1,4,2]\n",
    "majorityElement(nums)"
   ]
  },
  {
   "cell_type": "markdown",
   "metadata": {},
   "source": [
    "---"
   ]
  },
  {
   "cell_type": "markdown",
   "metadata": {},
   "source": [
    "## Solution 2: Sorting\n",
    "\n",
    "* Sort the elements and access the middle element of the array.\n",
    "* Middle element guaranteed to be the result as the result appears n / 2 times, so starting from end, beginning, or somewhere in the middle, it is guaranteed to be at the middle of the sorted array.\n",
    "\n",
    "\n",
    "### Speed: O(nlogn)\n",
    "\n",
    "* Sorting takes O(nlogn).\n",
    "\n",
    "### Space: O(1)\n",
    "\n",
    "* No **extra** storage needed as original input array is modified."
   ]
  },
  {
   "cell_type": "code",
   "execution_count": 3,
   "metadata": {},
   "outputs": [],
   "source": [
    "def majorityElement(nums: list) -> int:\n",
    "    nums.sort()\n",
    "#     print(nums)\n",
    "    return nums[len(nums) // 2]"
   ]
  },
  {
   "cell_type": "code",
   "execution_count": 4,
   "metadata": {},
   "outputs": [
    {
     "data": {
      "text/plain": [
       "4"
      ]
     },
     "execution_count": 4,
     "metadata": {},
     "output_type": "execute_result"
    }
   ],
   "source": [
    "nums = [1,4,4,4,1,4,2]\n",
    "majorityElement(nums)"
   ]
  },
  {
   "cell_type": "markdown",
   "metadata": {},
   "source": [
    "---"
   ]
  },
  {
   "cell_type": "markdown",
   "metadata": {},
   "source": [
    "## Solution 3: Moore’s Voting Algorithm\n",
    "\n",
    "* **This method only works when the majority element is guaranteed to be in the array.**\n",
    "\n",
    "* Each occurrence of the majority element, save for at least one, will be canceled by every other element in the array. The final result value will be the majority element.\n",
    "\n",
    "### Speed: O(n)\n",
    "\n",
    "* Iterate through the array once.\n",
    "\n",
    "### Space: O(1)\n",
    "\n",
    "* Constant space for two variables: `result` and `count`. O(2) rounds down to O(1)."
   ]
  },
  {
   "cell_type": "code",
   "execution_count": 5,
   "metadata": {},
   "outputs": [],
   "source": [
    "def majorityElement(nums: list) -> int:\n",
    "    result = None\n",
    "    count = 0\n",
    "\n",
    "    for num in nums:\n",
    "        if count == 0:\n",
    "            result = num\n",
    "            count = 1\n",
    "        elif num == result:\n",
    "            count += 1\n",
    "        else:\n",
    "            count -= 1\n",
    "            \n",
    "#         print(result, count)\n",
    "\n",
    "    return result"
   ]
  },
  {
   "cell_type": "code",
   "execution_count": 6,
   "metadata": {},
   "outputs": [
    {
     "data": {
      "text/plain": [
       "1"
      ]
     },
     "execution_count": 6,
     "metadata": {},
     "output_type": "execute_result"
    }
   ],
   "source": [
    "nums = [2,2,1,3,1,1,1]\n",
    "majorityElement(nums)"
   ]
  }
 ],
 "metadata": {
  "kernelspec": {
   "display_name": "Python 3",
   "language": "python",
   "name": "python3"
  },
  "language_info": {
   "codemirror_mode": {
    "name": "ipython",
    "version": 3
   },
   "file_extension": ".py",
   "mimetype": "text/x-python",
   "name": "python",
   "nbconvert_exporter": "python",
   "pygments_lexer": "ipython3",
   "version": "3.7.4"
  }
 },
 "nbformat": 4,
 "nbformat_minor": 4
}
