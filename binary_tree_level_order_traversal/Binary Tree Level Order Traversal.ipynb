{
 "cells": [
  {
   "cell_type": "markdown",
   "metadata": {},
   "source": [
    "Leetcode link: https://leetcode.com/problems/binary-tree-level-order-traversal/\n",
    "\n",
    "## Problem Statement:\n",
    "\n",
    "Given a binary tree, return the level order traversal of its nodes' values. (ie, from left to right, level by level)."
   ]
  },
  {
   "cell_type": "raw",
   "metadata": {},
   "source": [
    "For example:\n",
    "Given binary tree [3, 9, 20, None, None, 15, 7],\n",
    "\n",
    "    3\n",
    "   / \\\n",
    "  9  20\n",
    "    /  \\\n",
    "   15   7\n",
    "\n",
    "return its level order traversal as:\n",
    "\n",
    "[\n",
    "  [3],\n",
    "  [9,20],\n",
    "  [15,7]\n",
    "]"
   ]
  },
  {
   "cell_type": "markdown",
   "metadata": {},
   "source": [
    "## Two Solutions:\n",
    "\n",
    "### 1. Iterative-Solution (Queue)\n",
    "\n",
    "\n",
    "### 2. Iterative-Solution (List Comprehension)\n",
    "\n",
    "---"
   ]
  },
  {
   "cell_type": "code",
   "execution_count": 1,
   "metadata": {},
   "outputs": [],
   "source": [
    "# ***** building input ***** #\n",
    "\n",
    "class TreeNode:\n",
    "    def __init__(self, val=0, left=None, right=None):\n",
    "        self.val = val\n",
    "        self.left = left\n",
    "        self.right = right\n",
    "        \n",
    "def get_input(arr) -> list:\n",
    "    if not arr:\n",
    "        return TreeNode()\n",
    "    \n",
    "    root = TreeNode(arr.pop(0))\n",
    "    temp = [root]\n",
    "    \n",
    "    while temp:\n",
    "        node = temp.pop(0)\n",
    "        \n",
    "        if arr:\n",
    "            if arr[0]:\n",
    "                node.left = TreeNode(arr.pop(0))\n",
    "                temp.append(node.left)\n",
    "            else:\n",
    "                arr.pop(0)\n",
    "        if arr:\n",
    "            if arr[0]:\n",
    "                node.right = TreeNode(arr.pop(0))\n",
    "                temp.append(node.right)\n",
    "            else:\n",
    "                arr.pop(0)\n",
    "            \n",
    "    return root"
   ]
  },
  {
   "cell_type": "markdown",
   "metadata": {},
   "source": [
    "---\n",
    "## Solution 1. Iterative-Solution (Queue)\n",
    "\n",
    "* Queue of [node, level]\n",
    "* If level != (previous level) -> append a new array of values to result\n",
    "* If level == (previous level) -> append node value to current array of result\n",
    "\n",
    "### Speed: O(n)\n",
    "\n",
    "* Have to iterate through every element in tree, which is O(n)\n",
    "* Queue has O(1) access because always accessing first element\n",
    "\n",
    "### Space: O(n)\n",
    "\n",
    "* Worst-case queue can potentially contain all elements of tree if only one level"
   ]
  },
  {
   "cell_type": "code",
   "execution_count": 2,
   "metadata": {},
   "outputs": [],
   "source": [
    "def levelOrder(root: TreeNode) -> list:\n",
    "    if not root:\n",
    "        return []\n",
    "\n",
    "    result = []\n",
    "    queue = [[root, 0]]  # [node, level]\n",
    "    prev_level = -1\n",
    "\n",
    "    while queue:\n",
    "        root, level = queue.pop(0)\n",
    "\n",
    "        if level != prev_level:\n",
    "            result.append([root.val])\n",
    "            prev_level = level\n",
    "        else:\n",
    "            result[level].append(root.val)\n",
    "\n",
    "        if root.left:\n",
    "            queue.append([root.left, level + 1])\n",
    "\n",
    "        if root.right:\n",
    "            queue.append([root.right, level + 1])\n",
    "\n",
    "    return result"
   ]
  },
  {
   "cell_type": "code",
   "execution_count": 3,
   "metadata": {},
   "outputs": [
    {
     "data": {
      "text/plain": [
       "[[3], [9, 20], [15, 7]]"
      ]
     },
     "execution_count": 3,
     "metadata": {},
     "output_type": "execute_result"
    }
   ],
   "source": [
    "root = get_input([3, 9, 20, None, None, 15, 7])\n",
    "levelOrder(root)"
   ]
  },
  {
   "cell_type": "markdown",
   "metadata": {},
   "source": [
    "---\n",
    "## Solution 2. Iterative-Solution (List Comprehension)\n",
    "\n",
    "* Temporary array `level` of all nodes in current level\n",
    "* Append array of values of current level nodes to result\n",
    "* Get next level of nodes\n",
    "\n",
    "### Speed: O(n)\n",
    "\n",
    "* Have to iterate through every element in tree, which is O(n)\n",
    "* Getting every element of `level` potentially O(n) if only one level\n",
    "\n",
    "### Space: O(n)\n",
    "\n",
    "* Worst-case level can potentially contain all elements of tree if only one level"
   ]
  },
  {
   "cell_type": "code",
   "execution_count": 4,
   "metadata": {},
   "outputs": [],
   "source": [
    "def levelOrder(root: TreeNode) -> list:\n",
    "    if not root:\n",
    "        return []\n",
    "\n",
    "    result = []\n",
    "    level = [root]\n",
    "\n",
    "    while level:\n",
    "        result.append([x.val for x in level])\n",
    "        level = [child for node in level for child in (node.left, node.right) if child]\n",
    "\n",
    "    return result"
   ]
  },
  {
   "cell_type": "code",
   "execution_count": 5,
   "metadata": {},
   "outputs": [
    {
     "data": {
      "text/plain": [
       "[[3], [9, 20], [15, 7]]"
      ]
     },
     "execution_count": 5,
     "metadata": {},
     "output_type": "execute_result"
    }
   ],
   "source": [
    "root = get_input([3, 9, 20, None, None, 15, 7])\n",
    "levelOrder(root)"
   ]
  }
 ],
 "metadata": {
  "kernelspec": {
   "display_name": "Python 3",
   "language": "python",
   "name": "python3"
  },
  "language_info": {
   "codemirror_mode": {
    "name": "ipython",
    "version": 3
   },
   "file_extension": ".py",
   "mimetype": "text/x-python",
   "name": "python",
   "nbconvert_exporter": "python",
   "pygments_lexer": "ipython3",
   "version": "3.8.3"
  }
 },
 "nbformat": 4,
 "nbformat_minor": 4
}
