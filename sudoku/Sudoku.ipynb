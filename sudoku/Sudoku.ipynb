{
 "cells": [
  {
   "attachments": {},
   "cell_type": "markdown",
   "metadata": {},
   "source": [
    "## Problem Statement:\n",
    "\n",
    "Given a input of sudoko cells in consecutive order as a single string, with `0` denoting an empty cell, construct the solved sudoku board.\n",
    "\n",
    "Notes:\n",
    "- the sudoku board will always be size 9x9\n",
    "\n",
    "A sample input would be: '630000000000500000000000000000000000000000000000000000000000000000000000000000000'"
   ]
  },
  {
   "cell_type": "code",
   "execution_count": 1,
   "metadata": {},
   "outputs": [],
   "source": [
    "from typing import Tuple\n",
    "import numpy as np"
   ]
  },
  {
   "cell_type": "markdown",
   "metadata": {},
   "source": [
    "<img src=\"images/sudoku_board.png\" width=\"200\"/>"
   ]
  },
  {
   "cell_type": "code",
   "execution_count": 2,
   "metadata": {},
   "outputs": [],
   "source": [
    "def get_box_vals(board, row: int, col: int) -> list:\n",
    "    ''' get 3x3 box values from top left corner '''\n",
    "    row_start, col_start = row//3 * 3, col//3 * 3\n",
    "    \n",
    "    return board[row_start:row_start+3, col_start:col_start+3]"
   ]
  },
  {
   "cell_type": "code",
   "execution_count": 3,
   "metadata": {},
   "outputs": [],
   "source": [
    "def solve(board) -> Tuple[bool, list]:\n",
    "    for i in range(9):  # row\n",
    "        for j in range(9):  # col\n",
    "            if board[i][j] == 0:  # only consider empty values\n",
    "                # consider values [1,9] that aren't in row, col, or box\n",
    "                possible_vals = [x for x in range(1,10) if \n",
    "                                 (x not in board[i]) and  # row_vals\n",
    "                                 (x not in board[:, j]) and  # col_vals\n",
    "                                 (x not in get_box_vals(board, i, j))  # box_vals\n",
    "                                ]\n",
    "                \n",
    "                # construct board with each value recursively\n",
    "                for val in possible_vals:\n",
    "#                     print(f'[{i}, {j}]: {val} -- {possible_vals}')\n",
    "                    board[i][j] = val\n",
    "                    if solve(board)[0]:\n",
    "                        return True, board  # board is solved\n",
    "                    else:\n",
    "                        board[i][j] = 0  # board couldn't be solved, reset to 0\n",
    "                \n",
    "                return False, board  # board couldn't be solved for any possible values\n",
    "    \n",
    "    return True, board  # board is solved"
   ]
  },
  {
   "cell_type": "code",
   "execution_count": 4,
   "metadata": {
    "scrolled": false
   },
   "outputs": [
    {
     "name": "stdout",
     "output_type": "stream",
     "text": [
      "[[3 6 1 0 2 5 9 0 0]\n",
      " [0 8 0 9 6 0 0 0 0]\n",
      " [0 0 0 0 0 0 0 0 0]\n",
      " [0 0 0 0 0 0 0 0 0]\n",
      " [0 0 0 0 0 0 0 0 0]\n",
      " [0 0 0 0 0 0 0 0 0]\n",
      " [0 0 0 0 0 0 0 0 0]\n",
      " [0 0 0 0 0 0 0 0 0]\n",
      " [0 0 0 0 0 0 0 0 0]] \n",
      "--------------------\n",
      "[[3 6 1 4 2 5 9 7 8]\n",
      " [2 8 4 9 6 7 1 3 5]\n",
      " [5 7 9 1 3 8 2 4 6]\n",
      " [1 2 3 5 4 6 7 8 9]\n",
      " [4 5 6 7 8 9 3 1 2]\n",
      " [7 9 8 2 1 3 5 6 4]\n",
      " [6 1 2 3 5 4 8 9 7]\n",
      " [8 3 7 6 9 2 4 5 1]\n",
      " [9 4 5 8 7 1 6 2 3]]\n"
     ]
    }
   ],
   "source": [
    "input_ = '361025900080960000000000000000000000000000000000000000000000000000000000000000000'\n",
    "board_unsolved = np.reshape(list(map(int, input_)), (9,9))\n",
    "print(board_unsolved, '\\n{}'.format('-' * 20))\n",
    "\n",
    "solved, board_solved = solve(board_unsolved)\n",
    "\n",
    "if solved: print(board_solved)"
   ]
  },
  {
   "cell_type": "code",
   "execution_count": null,
   "metadata": {},
   "outputs": [],
   "source": []
  }
 ],
 "metadata": {
  "kernelspec": {
   "display_name": "Python 3",
   "language": "python",
   "name": "python3"
  },
  "language_info": {
   "codemirror_mode": {
    "name": "ipython",
    "version": 3
   },
   "file_extension": ".py",
   "mimetype": "text/x-python",
   "name": "python",
   "nbconvert_exporter": "python",
   "pygments_lexer": "ipython3",
   "version": "3.7.4"
  }
 },
 "nbformat": 4,
 "nbformat_minor": 4
}
