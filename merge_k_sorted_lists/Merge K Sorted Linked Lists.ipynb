{
 "cells": [
  {
   "cell_type": "markdown",
   "metadata": {},
   "source": [
    "Leetcode link: https://leetcode.com/problems/merge-k-sorted-lists/\n",
    "\n",
    "## Problem Statement:\n",
    "\n",
    "You're given a list of linked-lists, where each linked list is sorted in ascending order.\n",
    "\n",
    "Goal: merge all the linked-lists into one sorted linked-list and return it."
   ]
  },
  {
   "cell_type": "markdown",
   "metadata": {},
   "source": [
    "--- \n",
    "**Example 1:**\n",
    "\n",
    "`Input: [[1,2,2,3], [4,5,5], [1,3,9]]\n",
    "Output: [1,1,2,2,3,3,4,5,5,9]`\n",
    "\n",
    "**Example 2:**\n",
    "\n",
    "`Input: [[], []]\n",
    "Output: []`\n",
    "\n",
    "---"
   ]
  },
  {
   "cell_type": "markdown",
   "metadata": {},
   "source": [
    "## Three Solutions:\n",
    "\n",
    "### 1. Built-in `sort` Function\n",
    "\n",
    "\n",
    "### 2. Merge Sort\n",
    "\n",
    "\n",
    "### 3. Priority Queue\n",
    "\n",
    "---"
   ]
  },
  {
   "cell_type": "code",
   "execution_count": 1,
   "metadata": {},
   "outputs": [],
   "source": [
    "# ***** building input ***** #\n",
    "\n",
    "class ListNode:\n",
    "    def __init__(self, val=0, next=None):\n",
    "        self.val = val\n",
    "        self.next = next\n",
    "        \n",
    "def get_input() -> list:\n",
    "    lists = [[1,2,2,3], [4,5,5], [1,3,9]]\n",
    "    for i, lst in enumerate(lists):\n",
    "        head = node = ListNode()\n",
    "        for val in lst:\n",
    "            node.next = ListNode(val)\n",
    "            node = node.next\n",
    "\n",
    "        lists[i] = head.next\n",
    "    \n",
    "    return lists"
   ]
  },
  {
   "cell_type": "markdown",
   "metadata": {},
   "source": [
    "---\n",
    "## Solution 1: Built-in `sort` Function\n",
    "\n",
    "* Concatenate the linked-lists together a `list` and use the built-in `sort` function to sort.\n",
    "* Rebuild the combined linked-list.\n",
    "\n",
    "### Speed: O(n log n)\n",
    "\n",
    "* Sorting takes O(n log n).\n",
    "\n",
    "### Space: O(n)\n",
    "\n",
    "* Creating a new `list` to sort, so size will `2 * n` which becomes O(n)."
   ]
  },
  {
   "cell_type": "code",
   "execution_count": 2,
   "metadata": {},
   "outputs": [],
   "source": [
    "def merge_k_lists(lists: list) -> ListNode:\n",
    "    # base-condition checks\n",
    "    if not lists:\n",
    "        return\n",
    "    elif len(lists) == 1:\n",
    "        return lists[0]\n",
    "    \n",
    "    result = []\n",
    "    \n",
    "    for node in lists:\n",
    "        while node:\n",
    "            result.append(node.val)\n",
    "            node = node.next\n",
    "    \n",
    "    result.sort()\n",
    "    \n",
    "    # build linked-list to return\n",
    "    dummy = node = ListNode()\n",
    "    \n",
    "    for val in result:\n",
    "        node.next = ListNode(val)\n",
    "        node = node.next\n",
    "    \n",
    "    return dummy.next"
   ]
  },
  {
   "cell_type": "code",
   "execution_count": 3,
   "metadata": {},
   "outputs": [
    {
     "name": "stdout",
     "output_type": "stream",
     "text": [
      "1, 1, 2, 2, 3, 3, 4, 5, 5, 9, "
     ]
    }
   ],
   "source": [
    "head = merge_k_lists(get_input())\n",
    "\n",
    "while head:\n",
    "    print(head.val, end=', ')\n",
    "    head = head.next"
   ]
  },
  {
   "cell_type": "markdown",
   "metadata": {},
   "source": [
    "---\n",
    "## Solution 2: Merge Sort\n",
    "\n",
    "* Divide-and-conquer approach.\n",
    "* Divide the list of linked-lists into two halves, and recusively call the function on each half.\n",
    "* Once each half is sorted, merge the two halves together.\n",
    "\n",
    "### Speed: O(n log n)\n",
    "\n",
    "* Sorting takes O(n log n).\n",
    "\n",
    "### Space: O(n)\n",
    "\n",
    "* Not creating new space, so left with original n elements."
   ]
  },
  {
   "cell_type": "markdown",
   "metadata": {},
   "source": [
    "![title](images/merge_k_sorted_linked_lists1.png)"
   ]
  },
  {
   "cell_type": "code",
   "execution_count": 4,
   "metadata": {},
   "outputs": [],
   "source": [
    "def merge_k_lists(lists: list) -> ListNode:\n",
    "    \n",
    "    def merge(node1: ListNode, node2: ListNode) -> ListNode:\n",
    "        dummy = node = ListNode()\n",
    "        \n",
    "        while node1 and node2:\n",
    "            if node1.val < node2.val:\n",
    "                node.next = node1\n",
    "                node1 = node1.next\n",
    "            else:\n",
    "                node.next = node2\n",
    "                node2 = node2.next\n",
    "            node = node.next\n",
    "        \n",
    "        node.next = node1 if node1 else node2\n",
    "        \n",
    "        return dummy.next\n",
    "    \n",
    "    # base-condition checks\n",
    "    if not lists:\n",
    "        return\n",
    "    elif len(lists) == 1:\n",
    "        return lists[0]\n",
    "    \n",
    "    mid = len(lists) // 2\n",
    "    left = merge_k_lists(lists[:mid])\n",
    "    right = merge_k_lists(lists[mid:])\n",
    "    \n",
    "    return merge(left, right)"
   ]
  },
  {
   "cell_type": "code",
   "execution_count": 5,
   "metadata": {},
   "outputs": [
    {
     "name": "stdout",
     "output_type": "stream",
     "text": [
      "1, 1, 2, 2, 3, 3, 4, 5, 5, 9, "
     ]
    }
   ],
   "source": [
    "head = merge_k_lists(get_input())\n",
    "\n",
    "while head:\n",
    "    print(head.val, end=', ')\n",
    "    head = head.next"
   ]
  },
  {
   "cell_type": "markdown",
   "metadata": {},
   "source": [
    "---\n",
    "## Solution 3: Priority Queue\n",
    "\n",
    "* `heapq` python package implements the priority queue algorithm.\n",
    "* Heaps are binary trees where every parent node has a value less than or equal to any of its children.\n",
    "* `heapq` implements the heap with an list, with position `(i)` as the parent and position `(i*2 + 1)` and `(i*2 + 2)` as children.\n",
    "* Popping elements from the heap pops the smallest element.\n",
    "\n",
    "### Speed: O(n log n)\n",
    "\n",
    "* Building the `heap` array takes O(n).\n",
    "* `heapq.heapify()` takes O(n).\n",
    "* `heapq.heappop()` takes O(log n). There are `n` elements, so to pop all the elements it takes O(n log n). So O(n log n) is the time complexity.\n",
    "\n",
    "### Space: O(n)\n",
    "\n",
    "* Creating a new list `heap`, so size will `2 * n` which becomes O(n)."
   ]
  },
  {
   "cell_type": "markdown",
   "metadata": {},
   "source": [
    "---\n",
    "![title](images/heapq0.png)\n",
    "\n",
    "---\n",
    "![title](images/heapq2.png)\n",
    "\n",
    "---"
   ]
  },
  {
   "cell_type": "code",
   "execution_count": 6,
   "metadata": {},
   "outputs": [],
   "source": [
    "import heapq\n",
    "\n",
    "def merge_k_lists(lists: list) -> ListNode:\n",
    "    heap = []\n",
    "\n",
    "    for node in lists:\n",
    "        while node:\n",
    "            heap.append(node.val)\n",
    "            node = node.next\n",
    "\n",
    "    heapq.heapify(heap)  # magic happens\n",
    "    \n",
    "    dummy = node = ListNode()\n",
    "\n",
    "    while heap:\n",
    "        node.next = ListNode(heapq.heappop(heap))\n",
    "        node = node.next\n",
    "\n",
    "    return dummy.next"
   ]
  },
  {
   "cell_type": "code",
   "execution_count": 7,
   "metadata": {},
   "outputs": [
    {
     "name": "stdout",
     "output_type": "stream",
     "text": [
      "1, 1, 2, 2, 3, 3, 4, 5, 5, 9, "
     ]
    }
   ],
   "source": [
    "head = merge_k_lists(get_input())\n",
    "\n",
    "while head:\n",
    "    print(head.val, end=', ')\n",
    "    head = head.next"
   ]
  }
 ],
 "metadata": {
  "kernelspec": {
   "display_name": "Python 3",
   "language": "python",
   "name": "python3"
  },
  "language_info": {
   "codemirror_mode": {
    "name": "ipython",
    "version": 3
   },
   "file_extension": ".py",
   "mimetype": "text/x-python",
   "name": "python",
   "nbconvert_exporter": "python",
   "pygments_lexer": "ipython3",
   "version": "3.8.3"
  }
 },
 "nbformat": 4,
 "nbformat_minor": 4
}
